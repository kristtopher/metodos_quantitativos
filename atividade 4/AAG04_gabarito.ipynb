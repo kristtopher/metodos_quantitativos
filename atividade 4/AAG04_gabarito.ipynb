{
 "cells": [
  {
   "cell_type": "markdown",
   "metadata": {},
   "source": [
    "# <center> $\\underline{\\textbf{AAG04 - Gabarito}}$ <p><center> Roberto Massi de Oliveira"
   ]
  },
  {
   "cell_type": "code",
   "execution_count": 1,
   "metadata": {},
   "outputs": [],
   "source": [
    "import numpy as np\n",
    "from scipy import stats\n",
    "import math"
   ]
  },
  {
   "cell_type": "markdown",
   "metadata": {},
   "source": [
    "## 1. Teste Kolmogorov-Smirnov\n",
    "Aplica-se o teste Kolmogorov-Smirnov com o objetivo de comprovação da hipótese nula ($H_0$), que afirma a normalidade da distribuição amostral. Para tal, procuram-se p-values superiores a 0.8, conforme o especificado. Nesse contexto, duas amostras são selecionadas."
   ]
  },
  {
   "cell_type": "code",
   "execution_count": 2,
   "metadata": {},
   "outputs": [],
   "source": [
    "pk = [0, 0]\n",
    "x = [[],[]]\n",
    "amostras = 0\n",
    "n = 20\n",
    "\n",
    "# Colhendo amostras no p-value especificado (superior a 0.8)\n",
    "while(amostras < 2):\n",
    "    while(pk[amostras] < 0.8):\n",
    "        # Escolhi sortear números inteiros entre 0 e 5 para o desvio padrão da amostra\n",
    "        x[amostras] = np.random.normal(np.random.randint(0,5),np.random.randint(0,5),n)\n",
    "        k,pk[amostras] = stats.kstest(x[amostras],'norm')\n",
    "    amostras = amostras + 1"
   ]
  },
  {
   "cell_type": "code",
   "execution_count": 3,
   "metadata": {},
   "outputs": [
    {
     "name": "stdout",
     "output_type": "stream",
     "text": [
      "Amostra 1,\n",
      "p-value= 0.860010501420369 :\n",
      " [ 1.30894512 -2.60640178 -1.00295052  0.35373412 -1.40342902 -0.60820075\n",
      " -1.05468459  0.32262504 -0.12431153  0.63341588  0.9032562   0.85879137\n",
      "  0.091717   -0.44915232 -0.98511402 -0.91541858  0.69317947  1.09579521\n",
      " -0.78878367  0.90474177]\n",
      "Amostra 2,\n",
      "p-value= 0.8506913735246912 :\n",
      " [ 0.06706901 -0.26663329  1.71266035  0.81503509 -1.54083262 -0.86003496\n",
      "  0.55456305  0.50722827  0.60026829 -1.32874381 -0.55301955  0.16006974\n",
      " -0.4589939  -0.83636916 -0.7810391  -0.08775785 -1.51313933 -0.21143598\n",
      " -1.566671    1.11164516]\n"
     ]
    }
   ],
   "source": [
    "print(\"Amostra 1,\\np-value=\",pk[0],\":\\n\",x[0])\n",
    "print(\"Amostra 2,\\np-value=\",pk[1],\":\\n\",x[1])"
   ]
  },
  {
   "cell_type": "markdown",
   "metadata": {},
   "source": [
    "### Conclusões sobre o Teste Kolmogorov-Smirnov:\n",
    "Os elevados p-values fortalecem a hipótese nula $H_0$, na qual as amostras separadas seguem a Distribuição Normal"
   ]
  },
  {
   "cell_type": "markdown",
   "metadata": {},
   "source": [
    "## 2. Teste-T\n",
    "Nessa etapa, aplica-se o Teste-T para verificar uma das seguintes hipóteses:\n",
    "<p> $H_0$ (p-value $> 5\\%$): Não há diferença significativa entre as médias amostrais\n",
    "<p> $H_1$:(p-value $< 5\\%$): Há diferença significativa entre as médias amostrais"
   ]
  },
  {
   "cell_type": "code",
   "execution_count": 4,
   "metadata": {},
   "outputs": [
    {
     "name": "stdout",
     "output_type": "stream",
     "text": [
      "p-value: 0.7842561044069932\n"
     ]
    }
   ],
   "source": [
    "t,ptt = stats.ttest_ind(x[0],x[1])\n",
    "print(\"p-value:\", ptt)"
   ]
  },
  {
   "cell_type": "markdown",
   "metadata": {},
   "source": [
    "### Conclusões sobre o Teste-T\n",
    "O elevado p-value leva à conclusão de que as amostras selecionadas não diferem significativamente, em média."
   ]
  },
  {
   "cell_type": "markdown",
   "metadata": {},
   "source": [
    "## 3. Cálculos de Intervalos de Confiança\n",
    "Devido aos tamanhos amostrais ($n < 30$) e ao fato de que ambas as amostras são normalmente distribuídas, a Distribuição-T será utilizada para o cálculo dos intervalos de confiança para as médias."
   ]
  },
  {
   "cell_type": "markdown",
   "metadata": {},
   "source": [
    "### 3.1 Nível de confiança de $90\\%$"
   ]
  },
  {
   "cell_type": "code",
   "execution_count": 5,
   "metadata": {},
   "outputs": [
    {
     "name": "stdout",
     "output_type": "stream",
     "text": [
      "Amostra 1:\n",
      "[Mínimo, Média, Máximo] : [-0.52349951022798, -0.13861227982958052, 0.24627495056881893]\n",
      "Amostra 2:\n",
      "[Mínimo, Média, Máximo] : [-0.5726059930199329, -0.22380658021328054, 0.1249928325933718]\n"
     ]
    }
   ],
   "source": [
    "nc = 0.9\n",
    "lower_t90 = [0, 0]\n",
    "upper_t90 = [0, 0]\n",
    "\n",
    "# Cálculo de Médias e Desvios Padrões\n",
    "medias = [np.mean(x[0]), np.mean(x[1])]\n",
    "desvios = [np.std(x[0]), np.std(x[1])]\n",
    "\n",
    "# Cálculo de Intervalo de Confiança - Amostra 1\n",
    "t = stats.t.ppf((nc+1)/2,n)\n",
    "lower_t90[0] = medias[0] - t*desvios[0]/math.sqrt(n)\n",
    "upper_t90[0] = medias[0] + t*desvios[0]/math.sqrt(n)\n",
    "\n",
    "# Cálculo de Intervalo de Confiança - Amostra 2\n",
    "t = stats.t.ppf((nc+1)/2,n)\n",
    "lower_t90[1] = medias[1] - t*desvios[1]/math.sqrt(n)\n",
    "upper_t90[1] = medias[1] + t*desvios[1]/math.sqrt(n)\n",
    "\n",
    "#Resultados\n",
    "print(\"Amostra 1:\")\n",
    "print(\"[Mínimo, Média, Máximo] :\", [lower_t90[0], medias[0], upper_t90[0]])\n",
    "\n",
    "print(\"Amostra 2:\")\n",
    "print(\"[Mínimo, Média, Máximo] :\", [lower_t90[1], medias[1], upper_t90[1]])"
   ]
  },
  {
   "cell_type": "markdown",
   "metadata": {},
   "source": [
    "### Conclusões sobre o Intervalo de Confiança para o Nível de Confiança de $90\\%$\n",
    "As amostras analisadas são não-pareadas e há sobreposição entre os intervalos de confiança calculados para as mesmas. Além disso, o intervalo de confiança de uma das amostras contém a média da outra e vice-versa. Portanto, confirma-se o resultado obtido com o Teste-T, comprovando-se que as amostras analisadas não diferem significativamente entre si no nível de confiança considerado."
   ]
  },
  {
   "cell_type": "markdown",
   "metadata": {},
   "source": [
    "### 3.2 Nível de confiança de $95\\%$"
   ]
  },
  {
   "cell_type": "code",
   "execution_count": 6,
   "metadata": {},
   "outputs": [
    {
     "name": "stdout",
     "output_type": "stream",
     "text": [
      "Amostra 1:\n",
      "[Mínimo, Média, Máximo] : [-0.604114803053787, -0.13861227982958052, 0.3268902433946259]\n",
      "Amostra 2:\n",
      "[Mínimo, Média, Máximo] : [-0.6456626303413947, -0.22380658021328054, 0.19804946991483363]\n"
     ]
    }
   ],
   "source": [
    "nc = 0.95\n",
    "lower_t90 = [0, 0]\n",
    "upper_t90 = [0, 0]\n",
    "\n",
    "# Cálculo de Médias e Desvios Padrões\n",
    "medias = [np.mean(x[0]), np.mean(x[1])]\n",
    "desvios = [np.std(x[0]), np.std(x[1])]\n",
    "\n",
    "# Cálculo de Intervalo de Confiança - Amostra 1\n",
    "t = stats.t.ppf((nc+1)/2,n)\n",
    "lower_t90[0] = medias[0] - t*desvios[0]/math.sqrt(n)\n",
    "upper_t90[0] = medias[0] + t*desvios[0]/math.sqrt(n)\n",
    "\n",
    "# Cálculo de Intervalo de Confiança - Amostra 2\n",
    "t = stats.t.ppf((nc+1)/2,n)\n",
    "lower_t90[1] = medias[1] - t*desvios[1]/math.sqrt(n)\n",
    "upper_t90[1] = medias[1] + t*desvios[1]/math.sqrt(n)\n",
    "\n",
    "#Resultados\n",
    "print(\"Amostra 1:\")\n",
    "print(\"[Mínimo, Média, Máximo] :\", [lower_t90[0], medias[0], upper_t90[0]])\n",
    "\n",
    "print(\"Amostra 2:\")\n",
    "print(\"[Mínimo, Média, Máximo] :\", [lower_t90[1], medias[1], upper_t90[1]])"
   ]
  },
  {
   "cell_type": "markdown",
   "metadata": {},
   "source": [
    "### Conclusões sobre o Intervalo de Confiança para o Nível de Confiança de $95\\%$\n",
    "Conforme o esperado, tendo em vista a conclusão referente ao nível de confiança de $90\\%$, as amostras analisadas não diferem significativamente entre si. Este resultado, conforme já mencionado, corrobora o resultado obtido com o Teste-T. Além disso, para o nível de confiança de $95\\%$, o intervalo de confiança é maior que no caso no qual o nível de confiança era de $90\\%$. Essa \"perda de precisão\" tende a aumentar conforme o nível de confiança aumenta."
   ]
  },
  {
   "cell_type": "markdown",
   "metadata": {},
   "source": [
    "### 3.3 Nível de confiança de $99\\%$"
   ]
  },
  {
   "cell_type": "code",
   "execution_count": 7,
   "metadata": {},
   "outputs": [
    {
     "name": "stdout",
     "output_type": "stream",
     "text": [
      "Amostra 1:\n",
      "[Mínimo, Média, Máximo] : [-0.773576816752428, -0.13861227982958052, 0.49635225709326686]\n",
      "Amostra 2:\n",
      "[Mínimo, Média, Máximo] : [-0.7992355374236471, -0.22380658021328054, 0.35162237699708593]\n"
     ]
    }
   ],
   "source": [
    "nc = 0.99\n",
    "lower_t90 = [0, 0]\n",
    "upper_t90 = [0, 0]\n",
    "\n",
    "# Cálculo de Médias e Desvios Padrões\n",
    "medias = [np.mean(x[0]), np.mean(x[1])]\n",
    "desvios = [np.std(x[0]), np.std(x[1])]\n",
    "\n",
    "# Cálculo de Intervalo de Confiança - Amostra 1\n",
    "t = stats.t.ppf((nc+1)/2,n)\n",
    "lower_t90[0] = medias[0] - t*desvios[0]/math.sqrt(n)\n",
    "upper_t90[0] = medias[0] + t*desvios[0]/math.sqrt(n)\n",
    "\n",
    "# Cálculo de Intervalo de Confiança - Amostra 2\n",
    "t = stats.t.ppf((nc+1)/2,n)\n",
    "lower_t90[1] = medias[1] - t*desvios[1]/math.sqrt(n)\n",
    "upper_t90[1] = medias[1] + t*desvios[1]/math.sqrt(n)\n",
    "\n",
    "#Resultados\n",
    "print(\"Amostra 1:\")\n",
    "print(\"[Mínimo, Média, Máximo] :\", [lower_t90[0], medias[0], upper_t90[0]])\n",
    "\n",
    "print(\"Amostra 2:\")\n",
    "print(\"[Mínimo, Média, Máximo] :\", [lower_t90[1], medias[1], upper_t90[1]])"
   ]
  },
  {
   "cell_type": "markdown",
   "metadata": {},
   "source": [
    "### Conclusões sobre o Intervalo de Confiança para o Nível de Confiança de $99\\%$\n",
    "Conforme o esperado, tendo em vista a conclusão referente ao nível de confiança de $90\\%$, as amostras analisadas não diferem significativamente entre si. Este resultado, conforme já mencionado, corrobora o resultado obtido com o Teste-T. Comprova-se, também, que quanto maior o nível de confiança, \"menor a precisão\" do intervalo de confiança, visto que o intervalo de confiança para o nível de confiança de $99\\%$ é maior que os intervalos de confiança para os demais níveis de confiança analisados."
   ]
  }
 ],
 "metadata": {
  "kernelspec": {
   "display_name": "Python 3 (Spyder)",
   "language": "python3",
   "name": "python3"
  },
  "language_info": {
   "codemirror_mode": {
    "name": "ipython",
    "version": 3
   },
   "file_extension": ".py",
   "mimetype": "text/x-python",
   "name": "python",
   "nbconvert_exporter": "python",
   "pygments_lexer": "ipython3",
   "version": "3.7.4"
  }
 },
 "nbformat": 4,
 "nbformat_minor": 2
}
