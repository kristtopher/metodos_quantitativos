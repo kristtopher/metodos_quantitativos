{
 "cells": [
  {
   "cell_type": "markdown",
   "metadata": {},
   "source": [
    "#  Atividade prática aula 05 <h1>\n",
    "    Aluno: Kristtopher Kayo Coelho \\par\n",
    "    Matrícula: ES95031"
   ]
  },
  {
   "cell_type": "markdown",
   "metadata": {},
   "source": [
    "A tarefa consiste em desenvolver um script que execute o teste Kolmogorov-Smirnov para verificar se as amostras com menos de 30 elementos seguem distribuição Normal. A quantidade de elementos __N__, da população (data1.txt), é de 56 elementos, os quais fazem referencia às vazões médias anuais (1944 - 1999) do Rio Paraopeba em Ponte Nova do Paraopeba em $m^3/s$.\n",
    "A média da população ($\\bar{x}$) é 81.00 $m^3/s$ com desvio padrão ($S$) de 26.41 $m^3/s$."
   ]
  },
  {
   "cell_type": "markdown",
   "metadata": {},
   "source": [
    "# Importando Bibliotecas"
   ]
  },
  {
   "cell_type": "code",
   "execution_count": 139,
   "metadata": {},
   "outputs": [],
   "source": [
    "import numpy as np\n",
    "from scipy import stats\n",
    "from scipy.stats import norm\n",
    "import matplotlib.pyplot as plt\n",
    "import pandas as pd\n",
    "import seaborn as sns\n",
    "import math"
   ]
  },
  {
   "cell_type": "markdown",
   "metadata": {},
   "source": [
    "## Função de análise do intervalo de confiança por Kolmogorov–Smirnov\n",
    "\n",
    "Nesta função é apresentado os valores referentes a média ($\\mu$), desvio padrão ($\\sigma$) de cada amostras. Ainda é avaliado se a hipótese de normalidade é aceita ou não para o limiar de _p-value_ igual a 0.8."
   ]
  },
  {
   "cell_type": "code",
   "execution_count": 140,
   "metadata": {},
   "outputs": [],
   "source": [
    "def kolmogorov_smirnov_analysis(sample, mean, std, ks_p_valor):\n",
    "    print('A média (\\u03BC) das amostras é = {:0.4f}.'.format(mean))\n",
    "    print('O desvio padrão (\\u03C3) das amostras é = {:0.4f}.'.format(std))\n",
    "    print('\\n')\n",
    "    \n",
    "    if (ks_p_valor >= 0.8):\n",
    "        print('As amostras seguem distribuição Normal com p-value igual {:0.4f}.'.format(ks_p_valor))\n",
    "    else:\n",
    "        print('As amostras NÃO seguem distribuição Normal com p-value igual {:0.4f}.'.format(ks_p_valor))\n",
    "    print('\\nOu seja, existe {:0.2f}% de chance de constatação da hipótese H0.'.format((ks_p_valor)*100))\n",
    "       \n",
    "    ax = sns.distplot(sample, axlabel = 'Vazão $m^3/s$', label = 'PDF')\n",
    "    ax.set(ylabel= 'F(x)')"
   ]
  },
  {
   "cell_type": "markdown",
   "metadata": {},
   "source": [
    "# Preparando Amostras\n",
    "\n",
    "Nesta seção são preparadas as amostras para avaliação. São extraído da população, duas amostra contendo 20 elementos cada. Os ementos representam o volume das vazões médias anuais. Eles são escolhidos aleatóriamente por meio da função __sample = np.random.choice(vol,20)__."
   ]
  },
  {
   "cell_type": "code",
   "execution_count": 141,
   "metadata": {},
   "outputs": [],
   "source": [
    "#fonte das amostras http://www.cprm.gov.br/publique/media/hidrologia/mapas_publicacoes/livro_hidrologia_estatistica/cap7-test_hip.pdf\n",
    "arq = open('data1.txt','r')\n",
    "lines = []\n",
    "vol = []\n",
    "date = []\n",
    "count = 0\n",
    "n0_samples = []\n",
    "n0_mean \n",
    "n0_std\n",
    "n0_ks_stat\n",
    "n0_ks_p_valor\n",
    "n1_samples = []\n",
    "n1_mean \n",
    "n1_std\n",
    "n1_ks_stat\n",
    "n1_ks_p_valor\n",
    "samples_qtd = 20\n",
    "x = arq.readlines()\n",
    "\n",
    "for l in x:\n",
    "    date.append(int(l.split(',')[0]))\n",
    "    vol.append(float(l.split(',')[1]))\n",
    "\n",
    "while True:\n",
    "    # 20 amostras aleatoria das vazões médias anuais\n",
    "    sample = np.random.choice(vol,samples_qtd)\n",
    "    #média e desvio padrão\n",
    "    mean = np.mean(sample)\n",
    "    std = np.std(sample, ddof=1)\n",
    "    # cálculo do Kolmogorov–Smirnov para cada amostra\n",
    "    ks_stat, ks_p_valor = stats.kstest(sample, cdf = 'norm', args = (mean,std), N = len(sample))\n",
    "    #amostra A\n",
    "    if(ks_p_valor >= 0.8) and (count == 0):\n",
    "        count += 1\n",
    "        n0_samples = sample\n",
    "        n0_mean = mean\n",
    "        n0_std = std\n",
    "        n0_ks_stat = ks_stat\n",
    "        n0_ks_p_valor = ks_p_valor\n",
    "    #amostra B\n",
    "    elif(ks_p_valor >= 0.8) and (count == 1):\n",
    "        count += 1\n",
    "        n1_samples = sample\n",
    "        n1_mean = mean\n",
    "        n1_std = std\n",
    "        n1_ks_stat = ks_stat\n",
    "        n1_ks_p_valor = ks_p_valor\n",
    "        break"
   ]
  },
  {
   "cell_type": "markdown",
   "metadata": {},
   "source": [
    "# Verificando se as amostras escolhidas aleatóriamente seguem a distribuição normal"
   ]
  },
  {
   "cell_type": "markdown",
   "metadata": {},
   "source": [
    "## Análise da amostra A"
   ]
  },
  {
   "cell_type": "code",
   "execution_count": 142,
   "metadata": {},
   "outputs": [
    {
     "name": "stdout",
     "output_type": "stream",
     "text": [
      "A média (μ) das amostras é = 83.9500.\n",
      "O desvio padrão (σ) das amostras é = 19.4312.\n",
      "\n",
      "\n",
      "As amostras seguem distribuição Normal com p-value igual 0.9337.\n",
      "\n",
      "Ou seja, existe 93.37% de chance de constatação da hipótese H0.\n"
     ]
    },
    {
     "data": {
      "image/png": "[encoded data removed]",
      "text/plain": [
       "<Figure size 432x288 with 1 Axes>"
      ]
     },
     "metadata": {
      "needs_background": "light"
     },
     "output_type": "display_data"
    }
   ],
   "source": [
    "kolmogorov_smirnov_analysis(n0_samples, n0_mean, n0_std, n0_ks_p_valor)"
   ]
  },
  {
   "cell_type": "markdown",
   "metadata": {},
   "source": [
    "## Análise da amostra B"
   ]
  },
  {
   "cell_type": "code",
   "execution_count": 143,
   "metadata": {},
   "outputs": [
    {
     "name": "stdout",
     "output_type": "stream",
     "text": [
      "A média (μ) das amostras é = 78.2850.\n",
      "O desvio padrão (σ) das amostras é = 21.0047.\n",
      "\n",
      "\n",
      "As amostras seguem distribuição Normal com p-value igual 0.9960.\n",
      "\n",
      "Ou seja, existe 99.60% de chance de constatação da hipótese H0.\n"
     ]
    },
    {
     "data": {
      "image/png": "[encoded data removed]",
      "text/plain": [
       "<Figure size 432x288 with 1 Axes>"
      ]
     },
     "metadata": {
      "needs_background": "light"
     },
     "output_type": "display_data"
    }
   ],
   "source": [
    "kolmogorov_smirnov_analysis(n1_samples, n1_mean, n1_std, n1_ks_p_valor)"
   ]
  },
  {
   "cell_type": "markdown",
   "metadata": {},
   "source": [
    "# Verificando se as médias das amostras possuem diferença significativa (Teste-T)\n",
    "Válido para as duas amostras fixas, acima apresentadas."
   ]
  },
  {
   "cell_type": "code",
   "execution_count": 144,
   "metadata": {},
   "outputs": [
    {
     "name": "stdout",
     "output_type": "stream",
     "text": [
      "Existem apenas 38.15% de chances da diferença ser ao acaso H0.\n"
     ]
    }
   ],
   "source": [
    "t, p = stats.ttest_ind(n0_samples, n1_samples)\n",
    "print('Existem apenas {:0.2f}% de chances da diferença ser ao acaso H0.'.format(p*100))"
   ]
  },
  {
   "cell_type": "markdown",
   "metadata": {},
   "source": [
    "# Calculando o intervalo de confiança para as médias para diferentes níveis de confiança"
   ]
  },
  {
   "cell_type": "code",
   "execution_count": 145,
   "metadata": {},
   "outputs": [],
   "source": [
    "def confidence_interval_analysis(A_min, A_max, n0_mean, B_min, B_max, n1_mean, interval):\n",
    "    if((n1_mean >= A_min) and (n1_mean <= A_max)) and ((n0_mean >= B_min) and (n0_mean <= B_max)):\n",
    "        print('As Amostras não são diferentes neste nível de confiança de {:0.1f}%.'.format(interval*100))\n",
    "        return\n",
    "    elif(((n0_mean > n1_mean) and (A_min > B_max)) or((n1_mean > n0_mean) and (B_min > A_max))) :\n",
    "        print('As Amostras são diferentes neste nível de confiança de {:0.1f}%.'.format(interval*100))\n",
    "    else:\n",
    "        print ('Inconclusivo pata o T-student, o teste T é necessário nível de confiança de {:0.1f}%.'.format(interval*100))"
   ]
  },
  {
   "cell_type": "code",
   "execution_count": 146,
   "metadata": {},
   "outputs": [],
   "source": [
    "def confidence_interval(interval, mean, std, n):\n",
    "    t = stats.t.ppf((interval + 1)/2, n)\n",
    "    return (mean - t*(std/(math.sqrt(n)))), (mean + t*(std/(math.sqrt(n))))"
   ]
  },
  {
   "cell_type": "code",
   "execution_count": 147,
   "metadata": {},
   "outputs": [],
   "source": [
    "def graph(n0_mean, n1_mean, n0_interval, n1_interval):\n",
    "    x = [0, 1]\n",
    "    y =  [n0_mean, n1_mean]\n",
    "    error = [n0_interval, n1_interval]\n",
    "    labels = ['Amostra A', 'Amostra B']\n",
    "    \n",
    "    fig, ax = plt.subplots()\n",
    "    ax.bar(x, y,\n",
    "           yerr=error,\n",
    "           align='center',\n",
    "           alpha=0.5,\n",
    "           ecolor='black',\n",
    "           capsize=10)\n",
    "    ax.set_ylabel('Média')\n",
    "    ax.set_xticks(x)\n",
    "    ax.set_xticklabels(labels)\n",
    "    ax.set_title('Vazões médias anuais do Rio Paraopeba em $m^3/s$')"
   ]
  },
  {
   "cell_type": "markdown",
   "metadata": {},
   "source": [
    "## 90\\%"
   ]
  },
  {
   "cell_type": "code",
   "execution_count": 148,
   "metadata": {},
   "outputs": [
    {
     "name": "stdout",
     "output_type": "stream",
     "text": [
      "Intervalo de confiança da amostra A: 76.46, 91.44 e média 83.95.\n",
      "Intervalo de confiança da amostra B: 70.18, 86.39 e média 78.28.\n",
      "\n",
      "As Amostras não são diferentes neste nível de confiança de 90.0%.\n"
     ]
    },
    {
     "data": {
      "image/png": "[encoded data removed]",
      "text/plain": [
       "<Figure size 432x288 with 1 Axes>"
      ]
     },
     "metadata": {
      "needs_background": "light"
     },
     "output_type": "display_data"
    }
   ],
   "source": [
    "A_min, A_max = confidence_interval(0.9, n0_mean, n0_std, len(n0_samples))\n",
    "B_min, B_max = confidence_interval(0.9, n1_mean, n1_std, len(n1_samples))\n",
    "\n",
    "print('Intervalo de confiança da amostra A: {:0.2f}, {:0.2f} e média {:0.2f}.'.format(A_min, A_max, n0_mean))\n",
    "print('Intervalo de confiança da amostra B: {:0.2f}, {:0.2f} e média {:0.2f}.\\n'.format(B_min, B_max, n1_mean))\n",
    "\n",
    "confidence_interval_analysis(A_min, A_max, n0_mean, B_min, B_max, n1_mean, 0.9)\n",
    "\n",
    "graph(n0_mean, n1_mean, n0_mean - A_min, n1_mean - B_min)"
   ]
  },
  {
   "cell_type": "markdown",
   "metadata": {},
   "source": [
    "## 95\\%"
   ]
  },
  {
   "cell_type": "code",
   "execution_count": 149,
   "metadata": {},
   "outputs": [
    {
     "name": "stdout",
     "output_type": "stream",
     "text": [
      "Intervalo de confiança da amostra A: 74.89, 93.01 e média 83.95.\n",
      "Intervalo de confiança da amostra B: 68.49, 88.08 e média 78.28.\n",
      "\n",
      "As Amostras não são diferentes neste nível de confiança de 95.0%.\n"
     ]
    },
    {
     "data": {
      "image/png": "[encoded data removed]",
      "text/plain": [
       "<Figure size 432x288 with 1 Axes>"
      ]
     },
     "metadata": {
      "needs_background": "light"
     },
     "output_type": "display_data"
    }
   ],
   "source": [
    "A_min, A_max = confidence_interval(0.95, n0_mean, n0_std, len(n0_samples))\n",
    "B_min, B_max = confidence_interval(0.95, n1_mean, n1_std, len(n1_samples))\n",
    "\n",
    "print('Intervalo de confiança da amostra A: {:0.2f}, {:0.2f} e média {:0.2f}.'.format(A_min, A_max, n0_mean))\n",
    "print('Intervalo de confiança da amostra B: {:0.2f}, {:0.2f} e média {:0.2f}.\\n'.format(B_min, B_max, n1_mean))\n",
    "\n",
    "confidence_interval_analysis(A_min, A_max, n0_mean, B_min, B_max, n1_mean, 0.95)\n",
    "\n",
    "graph(n0_mean, n1_mean, n0_mean - A_min, n1_mean - B_min)"
   ]
  },
  {
   "cell_type": "markdown",
   "metadata": {},
   "source": [
    "## 99\\%"
   ]
  },
  {
   "cell_type": "code",
   "execution_count": 150,
   "metadata": {},
   "outputs": [
    {
     "name": "stdout",
     "output_type": "stream",
     "text": [
      "Intervalo de confiança da amostra A: 71.59, 96.31 e média 83.95.\n",
      "Intervalo de confiança da amostra B: 64.92, 91.65 e média 78.28.\n",
      "\n",
      "As Amostras não são diferentes neste nível de confiança de 99.0%.\n"
     ]
    },
    {
     "data": {
      "image/png": "[encoded data removed]",
      "text/plain": [
       "<Figure size 432x288 with 1 Axes>"
      ]
     },
     "metadata": {
      "needs_background": "light"
     },
     "output_type": "display_data"
    }
   ],
   "source": [
    "A_min, A_max = confidence_interval(0.99, n0_mean, n0_std, len(n0_samples))\n",
    "B_min, B_max = confidence_interval(0.99, n1_mean, n1_std, len(n1_samples))\n",
    "\n",
    "print('Intervalo de confiança da amostra A: {:0.2f}, {:0.2f} e média {:0.2f}.'.format(A_min, A_max, n0_mean))\n",
    "print('Intervalo de confiança da amostra B: {:0.2f}, {:0.2f} e média {:0.2f}.\\n'.format(B_min, B_max, n1_mean))\n",
    "\n",
    "confidence_interval_analysis(A_min, A_max, n0_mean, B_min, B_max, n1_mean, 0.99)\n",
    "\n",
    "graph(n0_mean, n1_mean, n0_mean - A_min, n1_mean - B_min)"
   ]
  },
  {
   "cell_type": "markdown",
   "metadata": {},
   "source": [
    "# Conclusões"
   ]
  },
  {
   "cell_type": "markdown",
   "metadata": {},
   "source": [
    "O teste pareado apresenta resultados que confirmam o que foi obtido com o teste T-student. Assim comprova-se a hipotese nula ($H_0$), ou seja, não há diferença significativa entre a distribuição amostral e a distribuição normal. Porém para cada intervalo de confiança é necessário uma avaliação criteriosa, uma vez que, para algum intervalo essa informação pode não ser comprovada."
   ]
  }
 ],
 "metadata": {
  "kernelspec": {
   "display_name": "Python 3",
   "language": "python",
   "name": "python3"
  },
  "language_info": {
   "codemirror_mode": {
    "name": "ipython",
    "version": 3
   },
   "file_extension": ".py",
   "mimetype": "text/x-python",
   "name": "python",
   "nbconvert_exporter": "python",
   "pygments_lexer": "ipython3",
   "version": "3.7.6"
  }
 },
 "nbformat": 4,
 "nbformat_minor": 2
}
