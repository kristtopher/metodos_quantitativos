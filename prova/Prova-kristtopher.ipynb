{
 "cells": [
  {
   "cell_type": "markdown",
   "metadata": {},
   "source": [
    "#  Atividade Avaliativa 01 <h1>\n",
    "    Aluno: Kristtopher Kayo Coelho \\par\n",
    "    Matrícula: ES95031"
   ]
  },
  {
   "cell_type": "markdown",
   "metadata": {},
   "source": [
    "Bibliotecas"
   ]
  },
  {
   "cell_type": "code",
   "execution_count": 2,
   "metadata": {},
   "outputs": [],
   "source": [
    "import matplotlib.pyplot as plt\n",
    "from scipy import stats\n",
    "import seaborn as sns\n",
    "import numpy as np\n",
    "import pandas as pd\n",
    "import statsmodels.api as sm\n",
    "import math\n",
    "from sklearn import linear_model"
   ]
  },
  {
   "cell_type": "markdown",
   "metadata": {},
   "source": [
    "# (10 pontos) Para uma v.a. que assume os valores"
   ]
  },
  {
   "cell_type": "code",
   "execution_count": 3,
   "metadata": {},
   "outputs": [],
   "source": [
    "X = [2, 10, 1, 2, 7, 6, 7, 8, 9, 1, 10, 5, 7, 9, 1, 3, 1]"
   ]
  },
  {
   "cell_type": "markdown",
   "metadata": {},
   "source": [
    "__a) (4 pontos) Caracterize esses dados, da melhor forma possível. Utilize métricas e distribuições que\n",
    "aprendeu durante a disciplina. Discuta a presença de outliers.__"
   ]
  },
  {
   "cell_type": "code",
   "execution_count": 4,
   "metadata": {},
   "outputs": [
    {
     "name": "stdout",
     "output_type": "stream",
     "text": [
      "-------Amostra X-------\n",
      "A amostra é composta por 17 valores.\n",
      "Média = 5.24\n",
      "Mediana =  6.0\n",
      "Moda =  1\n",
      "Variâcia = 11.12\n",
      "Desvio padrão = 3.33\n",
      "Coeficiente de variação = 0.64\n",
      "Valor máximo 10\n",
      "Valor mínimo 1\n"
     ]
    }
   ],
   "source": [
    "print('-------Amostra X-------')\n",
    "print('A amostra é composta por '+ str(len(X))+' valores.')\n",
    "print('Média = {:0.2f}'.format(np.mean(X)))\n",
    "print('Mediana = ',np.median(X))\n",
    "print('Moda = ',np.argmax(np.bincount(X)))\n",
    "print('Variâcia = {:0.2f}'.format(np.var(X)))\n",
    "print('Desvio padrão = {:0.2f}'.format(np.std(X)))\n",
    "print('Coeficiente de variação = {:0.2f}'.format(np.std(X)/np.mean(X)))\n",
    "print('Valor máximo',max(X))\n",
    "print('Valor mínimo',min(X))"
   ]
  },
  {
   "cell_type": "markdown",
   "metadata": {},
   "source": [
    "A amostra é composta por uma variavel aletória discreta contendo 17 valores. Estes valores pertencentem ao conjunto dos números inteiros positivos compreendidos entre 1 e 10.\n",
    "\n",
    "O dado que mais se repete na amostra é o 1.\n",
    "\n",
    "O valor médio obtido entre os dados é de 5.24, próximo ao valor da mediana que é 6, o que sugere que os dados comparados possivelmente seguem uma distribuição uniforme.\n",
    "\n",
    "O desvio padrão oponta para uma dispersão dos dados da amostra em 3.33.\n",
    "\n",
    "A dispersão estatística apontada pela variância é de 11.12.\n",
    "\n",
    "Além disso a amostra possui um coeficiente de variação elevado, 0.64 indicando a heterogeneidade da amostra.\n",
    "\n",
    "A amostra não contém a presença de _outliers_."
   ]
  },
  {
   "cell_type": "markdown",
   "metadata": {},
   "source": [
    "__b) (3 pontos) Faça a PMF.__"
   ]
  },
  {
   "cell_type": "code",
   "execution_count": 5,
   "metadata": {},
   "outputs": [
    {
     "data": {
      "text/plain": [
       "Text(0, 0.5, '$P(X = x)$')"
      ]
     },
     "execution_count": 5,
     "metadata": {},
     "output_type": "execute_result"
    },
    {
     "data": {
      "image/png": "[encoded data removed]",
      "text/plain": [
       "<Figure size 432x288 with 1 Axes>"
      ]
     },
     "metadata": {
      "needs_background": "light"
     },
     "output_type": "display_data"
    }
   ],
   "source": [
    "df_amostra = pd.DataFrame({'':X})\n",
    "ax = df_amostra.plot(kind='hist', density=True, histtype='bar', rwidth=0.1,\n",
    "                     xlim=(min(X)-0.05, max(X)+0.05), ylim=(0,1), \n",
    "                     legend=False, bins=np.arange(len(X))-0.5)\n",
    "ax.set_xlabel(r'$Amostras~X$')\n",
    "ax.set_ylabel(r'$P(X = x)$')"
   ]
  },
  {
   "cell_type": "markdown",
   "metadata": {},
   "source": [
    "A função massa de probabilidade (PMF) associa um valor de probabilidade à cada possível ocorrência de uma variável aleatória discreta. Deste modo é possível destacar que a maior probabilidade de ocorrer o valor 1 com 0,23%, em seguida o vaor 7 com 0,17%."
   ]
  },
  {
   "cell_type": "markdown",
   "metadata": {},
   "source": [
    "__c) (3 pontos) Faça a CDF.__"
   ]
  },
  {
   "cell_type": "code",
   "execution_count": 6,
   "metadata": {},
   "outputs": [
    {
     "data": {
      "image/png": "[encoded data removed]",
      "text/plain": [
       "<Figure size 432x288 with 1 Axes>"
      ]
     },
     "metadata": {
      "needs_background": "light"
     },
     "output_type": "display_data"
    }
   ],
   "source": [
    "x = np.sort(X)\n",
    "ecdf = sm.distributions.ECDF(X)\n",
    "y = ecdf(x)\n",
    "\n",
    "plt.step(x, y, where='post')\n",
    "plt.ylabel(r'$P(X \\leq x)$')\n",
    "plt.xlabel(r'$Amostras~X$')\n",
    "plt.xlim(min(x)-0.05, max(x)+0.05)\n",
    "plt.ylim(0-0.01, 1+0.01)\n",
    "plt.show()"
   ]
  },
  {
   "cell_type": "markdown",
   "metadata": {},
   "source": [
    "De modo a análogo a PMF, a Função de Distribuição Cumulativa (CDF), também representa a probabilidade de ocorrencia de cada dado na amostra, portanto é observável uma maior porcentagem para os valores 1 e 7. Além disso o platô para o valor 4 no eixo x representa sua ausência na amostra."
   ]
  },
  {
   "cell_type": "markdown",
   "metadata": {},
   "source": [
    "# (10 pontos) Considerando a seguinte amostra gerada aleatoriamente\n",
    "X = np.random.normal(media, dp, 36)\n",
    "\n",
    "X = np.around(X,2)\n",
    "\n",
    "print(X)"
   ]
  },
  {
   "cell_type": "code",
   "execution_count": 7,
   "metadata": {},
   "outputs": [],
   "source": [
    "X = [2.57, 3.36, 5.28, 3.5, 2.93, 2.89, 0.9, 2.48, 3.37, 2.05, 2.77, 3.48, 2.4, 2.37,\n",
    "    2.5, 1.36, 3.77, 1.74, 3.38, 1.94, 4.64, 4.08, 3.56, 3.28, 3.35, 4.46, 2.06, 3.,\n",
    "    3.91, 4.11, 1.53, 2.06, 2.78, 2.75, 1.14, 4.09]"
   ]
  },
  {
   "cell_type": "markdown",
   "metadata": {},
   "source": [
    "__a) (1 pontos) Calcule a média e o desvio padrão.__"
   ]
  },
  {
   "cell_type": "code",
   "execution_count": 8,
   "metadata": {},
   "outputs": [
    {
     "name": "stdout",
     "output_type": "stream",
     "text": [
      "Média = 2.94\n"
     ]
    }
   ],
   "source": [
    "#media = np.mean(X) com o passo a passo\n",
    "x = 0\n",
    "for i in X:\n",
    "    x += i\n",
    "media = x/len(X)\n",
    "print('Média = {:0.2f}'.format(media))\n"
   ]
  },
  {
   "cell_type": "code",
   "execution_count": 9,
   "metadata": {},
   "outputs": [
    {
     "name": "stdout",
     "output_type": "stream",
     "text": [
      "Desvio padrão = 1.00\n"
     ]
    }
   ],
   "source": [
    "#desvio padrão  S = np.std(X) com o passo a passo\n",
    "S = math.sqrt(np.mean(abs(X - np.mean(X))**2))\n",
    "print('Desvio padrão = {:0.2f}'.format(S))"
   ]
  },
  {
   "cell_type": "markdown",
   "metadata": {},
   "source": [
    "__b) (3 pontos) Plote a PDF__"
   ]
  },
  {
   "cell_type": "code",
   "execution_count": 10,
   "metadata": {},
   "outputs": [
    {
     "data": {
      "text/plain": [
       "Text(0.5, 0, '$Amostra~X$')"
      ]
     },
     "execution_count": 10,
     "metadata": {},
     "output_type": "execute_result"
    },
    {
     "data": {
      "image/png": "[encoded data removed]",
      "text/plain": [
       "<Figure size 432x288 with 1 Axes>"
      ]
     },
     "metadata": {
      "needs_background": "light"
     },
     "output_type": "display_data"
    }
   ],
   "source": [
    "ser = pd.Series(X)\n",
    "ser.plot.kde()\n",
    "plt.ylabel(r'$F(X)$')\n",
    "plt.xlabel(r'$Amostra~X$')"
   ]
  },
  {
   "cell_type": "markdown",
   "metadata": {},
   "source": [
    "A função de densidade de probabilidade aponta para maior probabilidade de os valores da variável aleatória serem próximos à média, afastando-se dela em 1 unidade de medida, para mais ou para menos."
   ]
  },
  {
   "cell_type": "markdown",
   "metadata": {},
   "source": [
    "__c) (2 pontos) Plote a PDF, no mesmo gráfico, considerando a mesma média e um desvio padrão igual a 2\n",
    "(dica: não se preocupe com o eixo Y).__"
   ]
  },
  {
   "cell_type": "markdown",
   "metadata": {},
   "source": [
    "Para esta questão optou-se por gerar uma nova amostra com os mesmos padrões, media = 3 e n = 36, variando apenas o desvio padrão de 1 para 2."
   ]
  },
  {
   "cell_type": "code",
   "execution_count": 11,
   "metadata": {},
   "outputs": [
    {
     "data": {
      "text/plain": [
       "Text(0.5, 0, '$Amostra~X$')"
      ]
     },
     "execution_count": 11,
     "metadata": {},
     "output_type": "execute_result"
    },
    {
     "data": {
      "image/png": "[encoded data removed]",
      "text/plain": [
       "<Figure size 432x288 with 1 Axes>"
      ]
     },
     "metadata": {
      "needs_background": "light"
     },
     "output_type": "display_data"
    }
   ],
   "source": [
    "X_new = np.random.normal(round(media), 2, 36)\n",
    "X_new = np.around(X_new,2)\n",
    "\n",
    "df = pd.DataFrame({'std = 1': X,'std = 2': X_new,})\n",
    "df.plot.kde()\n",
    "plt.ylabel(r'$F(X)$')\n",
    "plt.xlabel(r'$Amostra~X$')"
   ]
  },
  {
   "cell_type": "markdown",
   "metadata": {},
   "source": [
    "Para uma amostra do mesmo tamanho e mantendo a mesma média e distribuição, pode-se observar que ao aumentar o desvio padrão ocorre um achatamento da curva. Portanto existe uma maior probabilidade dos dados se afastarem da média em um fator de 2 unidades para mais ou para menos."
   ]
  },
  {
   "cell_type": "markdown",
   "metadata": {},
   "source": [
    "__d) (4 pontos) Calcule o intervalo de confiança para a média com um nível de confiança de 99% (dica:\n",
    "considerar média e desvio padrão calculados em “a)”).__"
   ]
  },
  {
   "cell_type": "code",
   "execution_count": 12,
   "metadata": {},
   "outputs": [
    {
     "name": "stdout",
     "output_type": "stream",
     "text": [
      "O intervalo de confiança para a média com um nível de confiança de 99% é entre 2.4865 e 3.3935\n"
     ]
    },
    {
     "data": {
      "text/plain": [
       "([], <a list of 0 Text major ticklabel objects>)"
      ]
     },
     "execution_count": 12,
     "metadata": {},
     "output_type": "execute_result"
    },
    {
     "data": {
      "image/png": "[encoded data removed]",
      "text/plain": [
       "<Figure size 432x288 with 1 Axes>"
      ]
     },
     "metadata": {
      "needs_background": "light"
     },
     "output_type": "display_data"
    }
   ],
   "source": [
    "t = stats.t.ppf((0.99 + 1)/2, len(X))\n",
    "A_min = media - t * (S/(math.sqrt(len(X))))\n",
    "A_max = media + t * (S/(math.sqrt(len(X))))\n",
    "print('O intervalo de confiança para a média com um nível de confiança de 99% é entre {:0.4f} e {:0.4f}'.format(A_min, A_max))\n",
    "\n",
    "plt.bar(0, media, yerr = (media - A_min), capsize=7)\n",
    "plt.ylabel('Média')\n",
    "plt.title('Intervalo de confiança')\n",
    "plt.xticks([]) "
   ]
  },
  {
   "cell_type": "markdown",
   "metadata": {},
   "source": [
    "# (10 pontos) Refaça de (a) a (d) do exercício (2) com novos dados gerados aleatoriamente e discuta a semelhança com os dados que estão disponíveis nessa prova."
   ]
  },
  {
   "cell_type": "code",
   "execution_count": 13,
   "metadata": {},
   "outputs": [
    {
     "name": "stdout",
     "output_type": "stream",
     "text": [
      "[4.76 3.09 2.45 4.34 2.36 2.58 3.5  2.01 4.34 2.12 2.09 3.17 2.45 2.97\n",
      " 3.8  0.99 3.79 2.11 2.99 1.9  3.89 2.61 4.18 3.36 2.21 2.24 2.4  2.27\n",
      " 1.69 2.48 3.1  2.68 2.11 1.38 2.98 3.32]\n"
     ]
    }
   ],
   "source": [
    "Y = np.random.normal(round(media), S, 36)\n",
    "Y = np.around(Y,2)\n",
    "print(Y)"
   ]
  },
  {
   "cell_type": "markdown",
   "metadata": {},
   "source": [
    "__a) (1 pontos) Calcule a média e o desvio padrão.__"
   ]
  },
  {
   "cell_type": "code",
   "execution_count": 14,
   "metadata": {},
   "outputs": [
    {
     "name": "stdout",
     "output_type": "stream",
     "text": [
      "Média = 2.80\n"
     ]
    }
   ],
   "source": [
    "y_media = np.mean(Y)\n",
    "print('Média = {:0.2f}'.format(y_media))"
   ]
  },
  {
   "cell_type": "code",
   "execution_count": 15,
   "metadata": {},
   "outputs": [
    {
     "name": "stdout",
     "output_type": "stream",
     "text": [
      "Desvio padrão = 0.86\n"
     ]
    }
   ],
   "source": [
    "y_S = np.std(Y)\n",
    "print('Desvio padrão = {:0.2f}'.format(y_S))"
   ]
  },
  {
   "cell_type": "markdown",
   "metadata": {},
   "source": [
    "__b) (3 pontos) Plote a PDF__"
   ]
  },
  {
   "cell_type": "code",
   "execution_count": 16,
   "metadata": {},
   "outputs": [
    {
     "data": {
      "text/plain": [
       "Text(0.5, 0, '$Amostra~Y$')"
      ]
     },
     "execution_count": 16,
     "metadata": {},
     "output_type": "execute_result"
    },
    {
     "data": {
      "image/png": "[encoded data removed]",
      "text/plain": [
       "<Figure size 432x288 with 1 Axes>"
      ]
     },
     "metadata": {
      "needs_background": "light"
     },
     "output_type": "display_data"
    }
   ],
   "source": [
    "ser = pd.Series(Y)\n",
    "ser.plot.kde()\n",
    "plt.ylabel(r'$F(Y)$')\n",
    "plt.xlabel(r'$Amostra~Y$')"
   ]
  },
  {
   "cell_type": "markdown",
   "metadata": {},
   "source": [
    "A função de densidade de probabilidade aponta para maior probabilidade de os valores da variável aleatória serem próximos à média, afastando-se dela em 1 unidade de medida, para mais ou para menos."
   ]
  },
  {
   "cell_type": "markdown",
   "metadata": {},
   "source": [
    "__c) (2 pontos) Plote a PDF, no mesmo gráfico, considerando a mesma média e um desvio padrão igual a 2\n",
    "(dica: não se preocupe com o eixo Y).__"
   ]
  },
  {
   "cell_type": "code",
   "execution_count": 17,
   "metadata": {},
   "outputs": [
    {
     "data": {
      "text/plain": [
       "Text(0.5, 0, '$Amostra~Y$')"
      ]
     },
     "execution_count": 17,
     "metadata": {},
     "output_type": "execute_result"
    },
    {
     "data": {
      "image/png": "[encoded data removed]",
      "text/plain": [
       "<Figure size 432x288 with 1 Axes>"
      ]
     },
     "metadata": {
      "needs_background": "light"
     },
     "output_type": "display_data"
    }
   ],
   "source": [
    "Y_new = np.random.normal(round(y_media), 2, 36)\n",
    "Y_new = np.around(Y_new,2)\n",
    "\n",
    "df = pd.DataFrame({'std = 1': Y,'std = 2': Y_new,})\n",
    "df.plot.kde()\n",
    "plt.ylabel(r'$F(Y)$')\n",
    "plt.xlabel(r'$Amostra~Y$')"
   ]
  },
  {
   "cell_type": "markdown",
   "metadata": {},
   "source": [
    "Para uma amostra do mesmo tamanho e mantendo a mesma média e distribuição, pode-se observar que ao aumentar o desvio padrão ocorre um achatamento da curva. Portanto existe uma maior probabilidade dos dados se afastarem da média em um fator de 2 unidades para mais ou para menos."
   ]
  },
  {
   "cell_type": "markdown",
   "metadata": {},
   "source": [
    "__d) (4 pontos) Calcule o intervalo de confiança para a média com um nível de confiança de 99% (dica:\n",
    "considerar média e desvio padrão calculados em “a)”).__"
   ]
  },
  {
   "cell_type": "code",
   "execution_count": 18,
   "metadata": {},
   "outputs": [
    {
     "name": "stdout",
     "output_type": "stream",
     "text": [
      "O intervalo de confiança para a média com um nível de confiança de 99% é entre 2.4865 e 3.3935\n"
     ]
    },
    {
     "data": {
      "text/plain": [
       "([], <a list of 0 Text major ticklabel objects>)"
      ]
     },
     "execution_count": 18,
     "metadata": {},
     "output_type": "execute_result"
    },
    {
     "data": {
      "image/png": "[encoded data removed]",
      "text/plain": [
       "<Figure size 432x288 with 1 Axes>"
      ]
     },
     "metadata": {
      "needs_background": "light"
     },
     "output_type": "display_data"
    }
   ],
   "source": [
    "t = stats.t.ppf((0.99 + 1)/2, len(Y))\n",
    "Ay_min = y_media - t * (y_S/(math.sqrt(len(Y))))\n",
    "Ay_max = y_media + t * (y_S/(math.sqrt(len(Y))))\n",
    "print('O intervalo de confiança para a média com um nível de confiança de 99% é entre {:0.4f} e {:0.4f}'.format(A_min, A_max))\n",
    "\n",
    "plt.bar(0, y_media, yerr = (y_media - Ay_min), capsize=7)\n",
    "plt.title('Intervalo de confiança')\n",
    "plt.ylabel('Média')\n",
    "plt.xticks([]) "
   ]
  },
  {
   "cell_type": "markdown",
   "metadata": {},
   "source": [
    "Ao realizar o exercício 3, repetindo a dinâmica do exercício 2 para novos dados gerados aleatoriamente, observa-se que, ao manter os mesmos parametros para a geração dos dados, ou seja, utilizando a distribuição normal, média 3 e desvio padrão 1, os resultados foram extremamente semelhantes. Tais como para a variação do desvio padrão para valor 2.\n",
    "\n",
    "Isto indica que, para todas as amostras que forem geradas com estas características, teremos a mairoia dos dados próximos da média 3 e desvio padrão semelhantes, bem como as demais métricas estatísticas.\n",
    "\n",
    "Nota-se ainda que a variação de quaisquer parametro tem grande influência nos resultados das amostras, haja visto os gráficos apresentados com desvio padrão (std) igual a 2."
   ]
  },
  {
   "cell_type": "markdown",
   "metadata": {},
   "source": [
    "# (10 Pontos) O tempo de processamento necessário para executar uma tarefa foi medido em dois sistemas. Esses sistemas são significativamente diferentes num nível de confiança (NC) de 95 porcento?\n",
    "Sistema A: { 3.38, 2.50, 3.52, 19.12, 3.60, 1.74}\n",
    "\n",
    "Sistema B: {0.64, 0.62, 7.26, 5.36, 16.57, 1.41}."
   ]
  },
  {
   "cell_type": "markdown",
   "metadata": {},
   "source": [
    "Funções de cálculo e análise do intervalo e plotagem do gráfico para ambos os sistemas."
   ]
  },
  {
   "cell_type": "code",
   "execution_count": 19,
   "metadata": {},
   "outputs": [],
   "source": [
    "def confidence_interval_analysis(A_min, A_max, n0_mean, B_min, B_max, n1_mean, interval):\n",
    "    print('Conclusão:')\n",
    "    if((n1_mean >= A_min) and (n1_mean <= A_max)) and ((n0_mean >= B_min) and (n0_mean <= B_max)):\n",
    "        print('As Amostras não são diferentes neste nível de confiança de {:0.1f}%.'.format(interval*100))\n",
    "        return\n",
    "    elif(((n0_mean > n1_mean) and (A_min > B_max)) or((n1_mean > n0_mean) and (B_min > A_max))) :\n",
    "        print('As Amostras são diferentes neste nível de confiança de {:0.1f}%.'.format(interval*100))\n",
    "    else:\n",
    "        print ('Inconclusivo pata o T-student, o teste T é necessário nível de confiança de {:0.1f}%.'.format(interval*100))"
   ]
  },
  {
   "cell_type": "code",
   "execution_count": 20,
   "metadata": {},
   "outputs": [],
   "source": [
    "def confidence_interval(interval, mean, std, n):\n",
    "    t = stats.t.ppf((interval + 1)/2, n)\n",
    "    return (mean - t*(std/(math.sqrt(n)))), (mean + t*(std/(math.sqrt(n))))"
   ]
  },
  {
   "cell_type": "code",
   "execution_count": 21,
   "metadata": {},
   "outputs": [],
   "source": [
    "def graph(n0_mean, n1_mean, n0_interval, n1_interval):\n",
    "    x = [0, 1]\n",
    "    y =  [n0_mean, n1_mean]\n",
    "    error = [n0_interval, n1_interval]\n",
    "    labels = ['Sistema A', 'Sistema B']\n",
    "    \n",
    "    fig, ax = plt.subplots()\n",
    "    ax.bar(x, y,\n",
    "           yerr=error,\n",
    "           align='center',\n",
    "           alpha=0.5,\n",
    "           ecolor='black',\n",
    "           capsize=10)\n",
    "    ax.set_ylabel('Média ($t$)')\n",
    "    ax.set_xticks(x)\n",
    "    ax.set_xticklabels(labels)"
   ]
  },
  {
   "cell_type": "code",
   "execution_count": 22,
   "metadata": {},
   "outputs": [],
   "source": [
    "Sistema_A = [3.38, 2.50, 3.52, 19.12, 3.60, 1.74]\n",
    "Sistema_B = [0.64, 0.62, 7.26, 5.36, 16.57, 1.41]\n",
    "# Sistema_A = [3.38, 2.50, 3.52, 3.60, 1.74]\n",
    "# Sistema_B = [0.64, 0.62, 7.26, 5.36, 1.41]"
   ]
  },
  {
   "cell_type": "markdown",
   "metadata": {},
   "source": [
    "Teste T-student"
   ]
  },
  {
   "cell_type": "code",
   "execution_count": 23,
   "metadata": {},
   "outputs": [
    {
     "name": "stdout",
     "output_type": "stream",
     "text": [
      "Existem 92.99% de chances da diferença ser ao acaso H0.\n"
     ]
    }
   ],
   "source": [
    "t, p = stats.ttest_ind(Sistema_A, Sistema_B)\n",
    "print('Existem {:0.2f}% de chances da diferença ser ao acaso H0.'.format(p*100))"
   ]
  },
  {
   "cell_type": "code",
   "execution_count": 24,
   "metadata": {},
   "outputs": [
    {
     "name": "stdout",
     "output_type": "stream",
     "text": [
      "Intervalo de confiança da amostra A: -0.41, 11.70 e média 5.64.\n",
      "Intervalo de confiança da amostra B: -0.31, 10.93 e média 5.31.\n",
      "\n",
      "Conclusão:\n",
      "As Amostras não são diferentes neste nível de confiança de 95.0%.\n"
     ]
    },
    {
     "data": {
      "image/png": "[encoded data removed]",
      "text/plain": [
       "<Figure size 432x288 with 1 Axes>"
      ]
     },
     "metadata": {
      "needs_background": "light"
     },
     "output_type": "display_data"
    }
   ],
   "source": [
    "A_min, A_max = confidence_interval(0.95, np.mean(Sistema_A), np.std(Sistema_A), len(Sistema_A))\n",
    "B_min, B_max = confidence_interval(0.95, np.mean(Sistema_B), np.std(Sistema_B), len(Sistema_B))\n",
    "\n",
    "print('Intervalo de confiança da amostra A: {:0.2f}, {:0.2f} e média {:0.2f}.'.format(A_min, A_max, np.mean(Sistema_A)))\n",
    "print('Intervalo de confiança da amostra B: {:0.2f}, {:0.2f} e média {:0.2f}.\\n'.format(B_min, B_max, np.mean(Sistema_B)))\n",
    "\n",
    "confidence_interval_analysis(A_min, A_max, np.mean(Sistema_A), B_min, B_max, np.mean(Sistema_B), 0.95)\n",
    "\n",
    "graph(np.mean(Sistema_A), np.mean(Sistema_B), (A_max - np.mean(Sistema_A)), (B_max - np.mean(Sistema_B)))"
   ]
  },
  {
   "cell_type": "markdown",
   "metadata": {},
   "source": [
    "Existe a presença de _outliers_ em ambas as amostras os que faz com que o desvio padrão seja alto, cerca de 6 (unidades de tempo), porém mesmo com a remoção dos destes valores destoantes as amostras não são diferentes entre si para o nível de confiança de 95.0%."
   ]
  },
  {
   "cell_type": "markdown",
   "metadata": {},
   "source": [
    "# (5 pontos) A partir dos dados a seguir:\n",
    "xi = [1, 2, 3, 4, 5, 6, 7, 8]\n",
    "\n",
    "yi = [0.3, 0.5, 1.2, 1.4, 1.8, 3.2, 4, 2.6]\n",
    "\n",
    "yi = [1, 1.5, 2, 2.5, 3, 3.5, 4, 4.2]\n",
    "\n",
    "ei = [0.7, 1, 0.8, 1.1, 1.2, 0.3, 0, 1.6]"
   ]
  },
  {
   "cell_type": "markdown",
   "metadata": {},
   "source": [
    "__a) (2 pontos) Faça o teste visual de linearidade e analise-o.__"
   ]
  },
  {
   "cell_type": "markdown",
   "metadata": {},
   "source": [
    "Como a interpretação da questão faz parte da avaliação, e esta gerou redundancia de interpretações, optou-se por apresentar o teste visual de linearidade de duas maneiras. A primeira, mais tradicional, para regressão linear simples e em seguida a regressão multipla.\n",
    "\n",
    "__Para a primeira interpretação, mais tradicional, é considerado os dados da seguinte maneira:__\n",
    "\n",
    "xi = [1, 2, 3, 4, 5, 6, 7, 8]\n",
    "\n",
    "yi = [0.3, 0.5, 1.2, 1.4, 1.8, 3.2, 4, 2.6]\n",
    "\n",
    "ŷi = [1, 1.5, 2, 2.5, 3, 3.5, 4, 4.2]\n",
    "\n",
    "ei = [0.7, 1, 0.8, 1.1, 1.2, 0.3, 0, 1.6]\n",
    "\n",
    "Deste modo é realizada a regração linear simples.\n",
    "\n",
    "O gráfico abaixo representa o teste visual de linearidade para os dados de $x_i$ e y medido ($y_i$)"
   ]
  },
  {
   "cell_type": "code",
   "execution_count": 25,
   "metadata": {},
   "outputs": [
    {
     "data": {
      "text/plain": [
       "[<matplotlib.lines.Line2D at 0x7f004e75dad0>]"
      ]
     },
     "execution_count": 25,
     "metadata": {},
     "output_type": "execute_result"
    },
    {
     "data": {
      "image/png": "[encoded data removed]",
      "text/plain": [
       "<Figure size 648x432 with 1 Axes>"
      ]
     },
     "metadata": {
      "needs_background": "light"
     },
     "output_type": "display_data"
    }
   ],
   "source": [
    "figure = plt.figure(figsize=(9,6))\n",
    "plt.scatter(df['xi'], df['y0'])\n",
    "plt.xlabel('x')\n",
    "plt.ylabel('f(x)')\n",
    "plt.title('x$_i$ vs y$_i$')\n",
    "m, b = np.polyfit(df['xi'], df['y0'], 1)\n",
    "plt.plot(df['xi'], m*df['xi'] + b)"
   ]
  },
  {
   "cell_type": "markdown",
   "metadata": {},
   "source": [
    "__Conclusão:__ De acordo com o Teste Visual de Pressupostos para linearidade, a curva (x$_i$,y$_i$) tende a ser linear. Os resultados ajustados se aproximam de uma reta normal onde a curva pode ser descrita pela equação $y = ax + b + e$.\n",
    "\n",
    "O próxmo gráfico representa o teste visual de linearidade para os dados de $x_i$ e y calculado (ŷ$_i$)"
   ]
  },
  {
   "cell_type": "code",
   "execution_count": 26,
   "metadata": {},
   "outputs": [
    {
     "data": {
      "text/plain": [
       "[<matplotlib.lines.Line2D at 0x7f004e6d28d0>]"
      ]
     },
     "execution_count": 26,
     "metadata": {},
     "output_type": "execute_result"
    },
    {
     "data": {
      "image/png": "[encoded data removed]",
      "text/plain": [
       "<Figure size 648x432 with 1 Axes>"
      ]
     },
     "metadata": {
      "needs_background": "light"
     },
     "output_type": "display_data"
    }
   ],
   "source": [
    "figure = plt.figure(figsize=(9,6))\n",
    "plt.scatter(df['xi'], df['y1'])\n",
    "plt.xlabel('x')\n",
    "plt.ylabel('f(x)')\n",
    "plt.title('x$_i$ vs ŷ$_i$')\n",
    "m, b = np.polyfit(df['xi'], df['y1'], 1)\n",
    "plt.plot(df['xi'], m*df['xi'] + b)"
   ]
  },
  {
   "cell_type": "markdown",
   "metadata": {},
   "source": [
    "__Conclusão:__ De modo similar, também de acordo com o Teste Visual de Pressupostos para linearidade, a curva dos erros (x$_i$,ŷ$_i$) tende a ser linear. Os resultados ajustados se aproximam de uma reta normal onde a curva pode ser descrita pela equação $y = ax + b + e$.\n",
    "\n",
    "Deste modo é possível concluir que estes dados foram calculados a partir da regressão linear obtida para os dados [$x_i$,$y_i$].\n",
    "\n",
    "À seguir é apresentado a regrssão linear multipla, considerando os dados (x$_i$,[y$_0$,y$_1$])."
   ]
  },
  {
   "cell_type": "code",
   "execution_count": 26,
   "metadata": {
    "scrolled": true
   },
   "outputs": [
    {
     "name": "stdout",
     "output_type": "stream",
     "text": [
      "Onde: b0 = -1.4206896202223716  b1 = -0.265601086526864  b2 = 2.3663379382341905\n"
     ]
    },
    {
     "data": {
      "text/plain": [
       "<matplotlib.legend.Legend at 0x7ffb99c2cb90>"
      ]
     },
     "execution_count": 26,
     "metadata": {},
     "output_type": "execute_result"
    },
    {
     "data": {
      "image/png": "[encoded data removed]",
      "text/plain": [
       "<Figure size 432x288 with 1 Axes>"
      ]
     },
     "metadata": {
      "needs_background": "light"
     },
     "output_type": "display_data"
    }
   ],
   "source": [
    "data = {'xi': [1, 2, 3, 4, 5, 6, 7, 8],\n",
    "                'y0': [0.3, 0.5, 1.2, 1.4, 1.8, 3.2, 4, 2.6],\n",
    "                'y1': [1, 1.5, 2, 2.5, 3, 3.5, 4, 4.2],\n",
    "                'ei': [0.7, 1, 0.8, 1.1, 1.2, 0.3, 0, 1.6]}\n",
    " \n",
    "df = pd.DataFrame(data,columns=['xi','y0','y1','ei'])\n",
    "\n",
    "X = df['xi']\n",
    "Y = df[['y0','y1']]\n",
    "\n",
    "#regrassão linear multipla\n",
    "regr = linear_model.LinearRegression()\n",
    "regr.fit(Y, X)\n",
    "a = regr.intercept_\n",
    "c = regr.coef_\n",
    "print('Onde: b0 =',a,' b1 =',c[0], ' b2 =',c[1])\n",
    "#Equação da regrassão linear multipla\n",
    "eq = a + c[0]*df['y0'] + c[1]*df['y1'] #+ df['ei'] \n",
    "\n",
    "#Apresentação dos dados em forma gráfica\n",
    "plt.scatter(df['xi'], df['y0'])\n",
    "m, b = np.polyfit(df['xi'], df['y0'], 1)\n",
    "plt.plot(df['xi'], (m*np.array(df['xi']) + b),label = 'Regressão Xi Y0')\n",
    "\n",
    "plt.scatter(df['xi'], df['y1'])\n",
    "m, b = np.polyfit(df['xi'], df['y1'], 1)\n",
    "plt.plot(df['xi'], (m*np.array(df['xi']) + b),label = 'Regressão Xi Y1')\n",
    "\n",
    "plt.plot(df['xi'], eq, color = 'red', label = 'Regressão multipla')\n",
    "\n",
    "plt.xlabel('X', fontsize=14)\n",
    "plt.ylabel('F(x)', fontsize=14)\n",
    "plt.grid(False)\n",
    "plt.legend(loc = 'best')"
   ]
  },
  {
   "cell_type": "markdown",
   "metadata": {},
   "source": [
    "Para esta segunda interpretação, as linhas de cores azul e laranja apresentam regressões lineares individuais para cada par (x$_i$,y$_i$). Onde laranja representa (x$_i$,y$_0$) e azul representa representa (x$_i$,y$_1$).\n",
    "\n",
    "Em vermelho é apresentado a regressão linear multipla para (x$_i$,[y$_0$,y$_1$])\n",
    "\n",
    "__Conclusão:__ De acordo com o Teste Visual de Pressupostos para linearidade, ambas curvas tendem a serem lineares. Os resultados ajustados se aproximam de uma reta normal para cada par (x$_i$,y$_i$). Portanto diz-se que os erros são normais e curva pode ser descrita pela equação $y = ax + b + e$. Para a regressão multipla (x$_i$,[y$_0$,y$_1$]) temos a seguinte equação: $y = b_0 + b_1x_1 + b_2x_2 + e$"
   ]
  },
  {
   "cell_type": "markdown",
   "metadata": {},
   "source": [
    "__b) (3 pontos) Faça os testes visuais de erros independentes e homocedasticidade e analise-os.__"
   ]
  },
  {
   "cell_type": "markdown",
   "metadata": {},
   "source": [
    "Antes, foi realizado o teste dos erros normais, os demais aparecem a seguir."
   ]
  },
  {
   "cell_type": "code",
   "execution_count": 27,
   "metadata": {
    "scrolled": true
   },
   "outputs": [
    {
     "data": {
      "text/plain": [
       "Text(0.5, 1.0, 'Erros normais')"
      ]
     },
     "execution_count": 27,
     "metadata": {},
     "output_type": "execute_result"
    },
    {
     "data": {
      "image/png": "[encoded data removed]",
      "text/plain": [
       "<Figure size 432x288 with 1 Axes>"
      ]
     },
     "metadata": {
      "needs_background": "light"
     },
     "output_type": "display_data"
    }
   ],
   "source": [
    "sm.qqplot(df['y0'],line = '45', fit = True)\n",
    "plt.title('Erros normais')"
   ]
  },
  {
   "cell_type": "markdown",
   "metadata": {},
   "source": [
    "Os pontos se aproximam da reta da normal, portanto diz-se que os erros são normais."
   ]
  },
  {
   "cell_type": "code",
   "execution_count": 28,
   "metadata": {},
   "outputs": [
    {
     "data": {
      "text/plain": [
       "Text(0.5, 1.0, 'Homocedasticidade')"
      ]
     },
     "execution_count": 28,
     "metadata": {},
     "output_type": "execute_result"
    },
    {
     "data": {
      "image/png": "[encoded data removed]",
      "text/plain": [
       "<Figure size 648x432 with 1 Axes>"
      ]
     },
     "metadata": {
      "needs_background": "light"
     },
     "output_type": "display_data"
    }
   ],
   "source": [
    "figure = plt.figure(figsize=(9,6))\n",
    "plt.scatter(df['y1'], df['ei'])\n",
    "plt.xlabel('x')\n",
    "plt.ylabel('f(x)')\n",
    "plt.title('Homocedasticidade')\n",
    "# m, b = np.polyfit(df['y1'], df['ei'], 1)\n",
    "# plt.plot(df['y1'], m*df['y1'] + b)"
   ]
  },
  {
   "cell_type": "code",
   "execution_count": 29,
   "metadata": {},
   "outputs": [
    {
     "data": {
      "text/plain": [
       "Text(0.5, 1.0, 'Independência dos erros')"
      ]
     },
     "execution_count": 29,
     "metadata": {},
     "output_type": "execute_result"
    },
    {
     "data": {
      "image/png": "[encoded data removed]",
      "text/plain": [
       "<Figure size 432x288 with 1 Axes>"
      ]
     },
     "metadata": {
      "needs_background": "light"
     },
     "output_type": "display_data"
    }
   ],
   "source": [
    "sns.residplot(df['xi'],df['ei'])\n",
    "plt.xlabel('ŷ')\n",
    "plt.ylabel('ε$_i$')\n",
    "plt.title('Independência dos erros')"
   ]
  },
  {
   "cell_type": "markdown",
   "metadata": {},
   "source": [
    "__Conclusão:__ Para os testes de independência dos erros e homocedasticidade, percebe-se que exite uma tendência ao espalhamento enquanto o valor de ŷ cresce. Portanto sugere-se usar regressão não-linear ou linearização."
   ]
  }
 ],
 "metadata": {
  "kernelspec": {
   "display_name": "Python 3",
   "language": "python",
   "name": "python3"
  },
  "language_info": {
   "codemirror_mode": {
    "name": "ipython",
    "version": 3
   },
   "file_extension": ".py",
   "mimetype": "text/x-python",
   "name": "python",
   "nbconvert_exporter": "python",
   "pygments_lexer": "ipython3",
   "version": "3.7.6"
  }
 },
 "nbformat": 4,
 "nbformat_minor": 2
}
