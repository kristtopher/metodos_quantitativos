{
 "cells": [
  {
   "cell_type": "markdown",
   "metadata": {},
   "source": [
    "#  Atividade prática aula 03 <h1>\n",
    "    Aluno: Kristtopher Kayo Coelho\n",
    "    Matrícula: ES95031"
   ]
  },
  {
   "cell_type": "markdown",
   "metadata": {},
   "source": [
    "A atividade de consiste em coletar dados de sites utilizando alguma técnica de \"raspagem\", e apresentá-los como por meio de uma função, \n",
    "seja CDF ou PMF.\n",
    "A técnica escolhida foi o Scraping, sua implementação foi realizada baseando no exemplo dos slides da aula 3.\n",
    "O site utilizado para realizar a coleta de dados é o https://webscraper.io/, ideal para desenvolver o conhecimento das técnicas de Scraping. Neste site, foi escolhida a classe de e-commerce para a captura dos dados. Os preços e modelos de notebooks foram considerados nesta atividade. Para representar os dados de forma gráfica, optou-se por utilizar a CDF."
   ]
  },
  {
   "cell_type": "markdown",
   "metadata": {},
   "source": [
    "O bloco abaixo contém as bibliotecas necessárias para executar os demais blocos"
   ]
  },
  {
   "cell_type": "code",
   "execution_count": 24,
   "metadata": {},
   "outputs": [],
   "source": [
    "from urllib.request import urlopen\n",
    "from bs4 import BeautifulSoup\n",
    "import matplotlib.pyplot as plt\n",
    "import numpy as np\n",
    "import statsmodels.api as sm\n",
    "%matplotlib inline\n"
   ]
  },
  {
   "cell_type": "markdown",
   "metadata": {},
   "source": [
    "A baixo é descrito o código de captura dos dados referente ao modelo e preço dos notebooks."
   ]
  },
  {
   "cell_type": "code",
   "execution_count": 25,
   "metadata": {},
   "outputs": [],
   "source": [
    "url = \"https://webscraper.io/test-sites/e-commerce/allinone/computers/laptops\"\n",
    "html = urlopen(url)\n",
    "soup = BeautifulSoup(html,features=\"html.parser\")\n",
    "\n",
    "row = soup.find_all('div', class_ = 'row')\n",
    "caption = row[1].find_all(class_ = 'caption')\n",
    "\n",
    "notebooks = []\n",
    "str_price = []\n",
    "price = []\n",
    "\n",
    "for elemen in caption:\n",
    "    notebooks.append(elemen.find('a').get_text())\n",
    "    str_price.append(elemen.find('h4').get_text())"
   ]
  },
  {
   "cell_type": "markdown",
   "metadata": {},
   "source": [
    "A figura abaixo representa os dados amostrados após a limpeza e processamento da página.\n",
    "\n",
    "\n",
    "![Dados coletados](out.png)"
   ]
  },
  {
   "cell_type": "markdown",
   "metadata": {},
   "source": [
    "Em seguida os valores são apresentados no formato de uma CDF"
   ]
  },
  {
   "cell_type": "code",
   "execution_count": 26,
   "metadata": {},
   "outputs": [
    {
     "data": {
      "text/plain": [
       "(-0.01, 1.01)"
      ]
     },
     "execution_count": 26,
     "metadata": {},
     "output_type": "execute_result"
    },
    {
     "data": {
      "image/png": "[encoded data removed]",
      "text/plain": [
       "<Figure size 432x288 with 1 Axes>"
      ]
     },
     "metadata": {
      "needs_background": "light"
     },
     "output_type": "display_data"
    }
   ],
   "source": [
    "for p in str_price:\n",
    "    price.append(float (p.replace('$','')))\n",
    "\n",
    "x = np.sort(price)\n",
    "ecdf = sm.distributions.ECDF(price)\n",
    "y = ecdf(x)\n",
    "\n",
    "plt.step(x, y, where='post')\n",
    "plt.ylabel(r'$P(X \\leq x)$')\n",
    "plt.xlabel(r'$Dollar~value~x$')\n",
    "plt.xlim(min(x)-0.05, max(x)+0.05)\n",
    "plt.axvline(x=1101.83,ls=':', color = 'gray', label='1101.83')\n",
    "plt.ylim(0-0.01, 1+0.01)"
   ]
  },
  {
   "cell_type": "markdown",
   "metadata": {},
   "source": [
    "Através da CDF conclui-se que 48% dos notebooks da amostra obtida possuem preço menor ou igual a 1099.00 dolares."
   ]
  }
 ],
 "metadata": {
  "kernelspec": {
   "display_name": "Python 3",
   "language": "python",
   "name": "python3"
  },
  "language_info": {
   "codemirror_mode": {
    "name": "ipython",
    "version": 3
   },
   "file_extension": ".py",
   "mimetype": "text/x-python",
   "name": "python",
   "nbconvert_exporter": "python",
   "pygments_lexer": "ipython3",
   "version": "3.7.6"
  }
 },
 "nbformat": 4,
 "nbformat_minor": 2
}
