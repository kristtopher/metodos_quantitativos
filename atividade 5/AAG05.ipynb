{
 "cells": [
  {
   "cell_type": "markdown",
   "metadata": {},
   "source": [
    "#  Atividade prática aula 05 <h1>\n",
    "    Aluno: Kristtopher Kayo Coelho \\par\n",
    "    Matrícula: ES95031"
   ]
  },
  {
   "cell_type": "markdown",
   "metadata": {},
   "source": [
    "A atividade consiste em apresentar um exemplo completo para análise do coeficiente de correlação e demais métricas.\n",
    "A base de dados escolhida para tal tarefa, representa as despesas mensais com alimentação. Obviamente os valores dependem de vários fatores, tais como a dimensão do agregado familiar, os gastos dos elementos\n",
    "do agregado, além do rendimento. Portanto, recolheu-se informação sobre oito famílias. Os resultados obtidos foram os seguintes:\n",
    "\n",
    "| Rendimento/BRL(x) | Despesas/BRL(y) |\n",
    "|------------------|----------------|\n",
    "| 1700             | 430            |\n",
    "| 2250             | 500            |\n",
    "| 950              | 200            |\n",
    "| 2800             | 550            |\n",
    "| 750              | 170            |\n",
    "| 1400             | 410            |\n",
    "| 2600             | 540            |\n",
    "| 3000             | 600            |"
   ]
  },
  {
   "cell_type": "markdown",
   "metadata": {},
   "source": [
    "# Importando Bibliotecas"
   ]
  },
  {
   "cell_type": "code",
   "execution_count": 1,
   "metadata": {},
   "outputs": [],
   "source": [
    "import numpy as np\n",
    "import pylab \n",
    "import scipy.stats as stats\n",
    "import statsmodels.api as sm\n",
    "from matplotlib import pyplot as plt\n",
    "import pandas as pd\n",
    "import seaborn as sns\n",
    "import warnings\n",
    "warnings.simplefilter(action='ignore', category=FutureWarning)"
   ]
  },
  {
   "cell_type": "markdown",
   "metadata": {},
   "source": [
    "# Preparando os dados"
   ]
  },
  {
   "cell_type": "code",
   "execution_count": 2,
   "metadata": {},
   "outputs": [
    {
     "data": {
      "text/html": [
       "<div>\n",
       "<style scoped>\n",
       "    .dataframe tbody tr th:only-of-type {\n",
       "        vertical-align: middle;\n",
       "    }\n",
       "\n",
       "    .dataframe tbody tr th {\n",
       "        vertical-align: top;\n",
       "    }\n",
       "\n",
       "    .dataframe thead th {\n",
       "        text-align: right;\n",
       "    }\n",
       "</style>\n",
       "<table border=\"1\" class=\"dataframe\">\n",
       "  <thead>\n",
       "    <tr style=\"text-align: right;\">\n",
       "      <th></th>\n",
       "      <th>Rendimento/BRL(x)</th>\n",
       "      <th>Despesas/BRL(y)</th>\n",
       "    </tr>\n",
       "  </thead>\n",
       "  <tbody>\n",
       "    <tr>\n",
       "      <th>0</th>\n",
       "      <td>1700</td>\n",
       "      <td>430</td>\n",
       "    </tr>\n",
       "    <tr>\n",
       "      <th>1</th>\n",
       "      <td>2250</td>\n",
       "      <td>500</td>\n",
       "    </tr>\n",
       "    <tr>\n",
       "      <th>2</th>\n",
       "      <td>950</td>\n",
       "      <td>200</td>\n",
       "    </tr>\n",
       "    <tr>\n",
       "      <th>3</th>\n",
       "      <td>2800</td>\n",
       "      <td>550</td>\n",
       "    </tr>\n",
       "    <tr>\n",
       "      <th>4</th>\n",
       "      <td>750</td>\n",
       "      <td>170</td>\n",
       "    </tr>\n",
       "    <tr>\n",
       "      <th>5</th>\n",
       "      <td>1400</td>\n",
       "      <td>410</td>\n",
       "    </tr>\n",
       "    <tr>\n",
       "      <th>6</th>\n",
       "      <td>2600</td>\n",
       "      <td>540</td>\n",
       "    </tr>\n",
       "    <tr>\n",
       "      <th>7</th>\n",
       "      <td>3000</td>\n",
       "      <td>600</td>\n",
       "    </tr>\n",
       "  </tbody>\n",
       "</table>\n",
       "</div>"
      ],
      "text/plain": [
       "   Rendimento/BRL(x)  Despesas/BRL(y)\n",
       "0               1700              430\n",
       "1               2250              500\n",
       "2                950              200\n",
       "3               2800              550\n",
       "4                750              170\n",
       "5               1400              410\n",
       "6               2600              540\n",
       "7               3000              600"
      ]
     },
     "execution_count": 2,
     "metadata": {},
     "output_type": "execute_result"
    }
   ],
   "source": [
    "data = pd.read_excel('data.xlsx')\n",
    "X = data['Rendimento/BRL(x)']\n",
    "Y = data['Despesas/BRL(y)']\n",
    "xy = np.array(X,Y)\n",
    "data\n"
   ]
  },
  {
   "cell_type": "markdown",
   "metadata": {},
   "source": [
    "# Avaliando o coeficiente de correlação da amostra\n",
    "Os passos seguintes só são possíveis de calcular e avaliar caso a amostra bivariada tenha coeficiente de correlação forte (positivo ou negativo)"
   ]
  },
  {
   "cell_type": "code",
   "execution_count": 3,
   "metadata": {
    "scrolled": true
   },
   "outputs": [
    {
     "data": {
      "text/html": [
       "<div>\n",
       "<style scoped>\n",
       "    .dataframe tbody tr th:only-of-type {\n",
       "        vertical-align: middle;\n",
       "    }\n",
       "\n",
       "    .dataframe tbody tr th {\n",
       "        vertical-align: top;\n",
       "    }\n",
       "\n",
       "    .dataframe thead th {\n",
       "        text-align: right;\n",
       "    }\n",
       "</style>\n",
       "<table border=\"1\" class=\"dataframe\">\n",
       "  <thead>\n",
       "    <tr style=\"text-align: right;\">\n",
       "      <th></th>\n",
       "      <th>Rendimento/BRL(x)</th>\n",
       "      <th>Despesas/BRL(y)</th>\n",
       "    </tr>\n",
       "  </thead>\n",
       "  <tbody>\n",
       "    <tr>\n",
       "      <th>Rendimento/BRL(x)</th>\n",
       "      <td>1.000000</td>\n",
       "      <td>0.959293</td>\n",
       "    </tr>\n",
       "    <tr>\n",
       "      <th>Despesas/BRL(y)</th>\n",
       "      <td>0.959293</td>\n",
       "      <td>1.000000</td>\n",
       "    </tr>\n",
       "  </tbody>\n",
       "</table>\n",
       "</div>"
      ],
      "text/plain": [
       "                   Rendimento/BRL(x)  Despesas/BRL(y)\n",
       "Rendimento/BRL(x)           1.000000         0.959293\n",
       "Despesas/BRL(y)             0.959293         1.000000"
      ]
     },
     "execution_count": 3,
     "metadata": {},
     "output_type": "execute_result"
    }
   ],
   "source": [
    "data.corr()"
   ]
  },
  {
   "cell_type": "markdown",
   "metadata": {},
   "source": [
    "## Conclusões sobre o coeficiente de correlação\n",
    "O coeficiente de correlação apresenta valor de aproximadamente 0.96, ou seja, próximo de um positivo, indicando que à medida que a renda cresce também crescem as despesas (em média)."
   ]
  },
  {
   "cell_type": "markdown",
   "metadata": {},
   "source": [
    "# Estimativa de parâmetros, verificação da qualidade e cálculo dos erros"
   ]
  },
  {
   "cell_type": "markdown",
   "metadata": {},
   "source": [
    "## Estimar parametros B1 e B0"
   ]
  },
  {
   "cell_type": "code",
   "execution_count": 4,
   "metadata": {},
   "outputs": [],
   "source": [
    "x = sm.add_constant(X)\n",
    "model = sm.OLS(Y,x)\n",
    "results = model.fit()"
   ]
  },
  {
   "cell_type": "code",
   "execution_count": 5,
   "metadata": {},
   "outputs": [
    {
     "data": {
      "text/plain": [
       "77.33507630570932"
      ]
     },
     "execution_count": 5,
     "metadata": {},
     "output_type": "execute_result"
    }
   ],
   "source": [
    "b0 = results.params['const']\n",
    "b0"
   ]
  },
  {
   "cell_type": "code",
   "execution_count": 6,
   "metadata": {},
   "outputs": [
    {
     "data": {
      "text/plain": [
       "0.1800206724630632"
      ]
     },
     "execution_count": 6,
     "metadata": {},
     "output_type": "execute_result"
    }
   ],
   "source": [
    "b1 = float(results.params['Rendimento/BRL(x)'])\n",
    "b1"
   ]
  },
  {
   "cell_type": "code",
   "execution_count": 7,
   "metadata": {},
   "outputs": [
    {
     "name": "stdout",
     "output_type": "stream",
     "text": [
      "Modelo linear: Despesas/BRL= 77.3351 + 0.1800(Rendimento/BRL)\n"
     ]
    }
   ],
   "source": [
    "print('Modelo linear: Despesas/BRL= {:0.4f} + {:0.4f}(Rendimento/BRL)'.format(b0,b1))"
   ]
  },
  {
   "cell_type": "markdown",
   "metadata": {},
   "source": [
    "## Cálculo dos erros"
   ]
  },
  {
   "cell_type": "markdown",
   "metadata": {},
   "source": [
    "### Y estimado"
   ]
  },
  {
   "cell_type": "code",
   "execution_count": 8,
   "metadata": {},
   "outputs": [
    {
     "data": {
      "text/plain": [
       "0    383.370219\n",
       "1    482.381589\n",
       "2    248.354715\n",
       "3    581.392959\n",
       "4    212.350581\n",
       "5    329.364018\n",
       "6    545.388825\n",
       "7    617.397094\n",
       "Name: Rendimento/BRL(x), dtype: float64"
      ]
     },
     "execution_count": 8,
     "metadata": {},
     "output_type": "execute_result"
    }
   ],
   "source": [
    "estimate_y = b0+b1*X\n",
    "estimate_y"
   ]
  },
  {
   "cell_type": "markdown",
   "metadata": {},
   "source": [
    "### Erro"
   ]
  },
  {
   "cell_type": "code",
   "execution_count": 9,
   "metadata": {},
   "outputs": [
    {
     "data": {
      "text/plain": [
       "0    46.629781\n",
       "1    17.618411\n",
       "2   -48.354715\n",
       "3   -31.392959\n",
       "4   -42.350581\n",
       "5    80.635982\n",
       "6    -5.388825\n",
       "7   -17.397094\n",
       "dtype: float64"
      ]
     },
     "execution_count": 9,
     "metadata": {},
     "output_type": "execute_result"
    }
   ],
   "source": [
    "e = Y - estimate_y\n",
    "e"
   ]
  },
  {
   "cell_type": "markdown",
   "metadata": {},
   "source": [
    "### Erro$^2$"
   ]
  },
  {
   "cell_type": "code",
   "execution_count": 10,
   "metadata": {},
   "outputs": [
    {
     "data": {
      "text/plain": [
       "0    2174.336430\n",
       "1     310.408394\n",
       "2    2338.178477\n",
       "3     985.517887\n",
       "4    1793.571682\n",
       "5    6502.161633\n",
       "6      29.039432\n",
       "7     302.658869\n",
       "dtype: float64"
      ]
     },
     "execution_count": 10,
     "metadata": {},
     "output_type": "execute_result"
    }
   ],
   "source": [
    "e**2"
   ]
  },
  {
   "cell_type": "markdown",
   "metadata": {},
   "source": [
    "## Verificar a qualidade do estimador"
   ]
  },
  {
   "cell_type": "code",
   "execution_count": 11,
   "metadata": {},
   "outputs": [
    {
     "name": "stdout",
     "output_type": "stream",
     "text": [
      "Conclusão: O modelo explica 92.02% da variação\n"
     ]
    }
   ],
   "source": [
    "print('Conclusão: O modelo explica {:0.2f}% da variação'.format(results.rsquared*100))"
   ]
  },
  {
   "cell_type": "markdown",
   "metadata": {},
   "source": [
    "# Desvio padrão dos erros e dos parâmetros"
   ]
  },
  {
   "cell_type": "markdown",
   "metadata": {},
   "source": [
    "## Sb0"
   ]
  },
  {
   "cell_type": "code",
   "execution_count": 12,
   "metadata": {},
   "outputs": [
    {
     "data": {
      "text/plain": [
       "45.24045147331449"
      ]
     },
     "execution_count": 12,
     "metadata": {},
     "output_type": "execute_result"
    }
   ],
   "source": [
    "Sb0 = results.bse['const']\n",
    "Sb0"
   ]
  },
  {
   "cell_type": "markdown",
   "metadata": {},
   "source": [
    "## Sb1"
   ]
  },
  {
   "cell_type": "code",
   "execution_count": 13,
   "metadata": {},
   "outputs": [
    {
     "data": {
      "text/plain": [
       "0.021636028315753723"
      ]
     },
     "execution_count": 13,
     "metadata": {},
     "output_type": "execute_result"
    }
   ],
   "source": [
    "Sb1 = results.bse['Rendimento/BRL(x)']\n",
    "Sb1"
   ]
  },
  {
   "cell_type": "markdown",
   "metadata": {},
   "source": [
    "# Cálculo do intervalo de confiança dos parâmetros para diferentes níveis de confiança"
   ]
  },
  {
   "cell_type": "markdown",
   "metadata": {},
   "source": [
    "## 90\\%"
   ]
  },
  {
   "cell_type": "code",
   "execution_count": 14,
   "metadata": {},
   "outputs": [
    {
     "data": {
      "text/plain": [
       "[-6.791716448140008, 161.46186905955864]"
      ]
     },
     "execution_count": 14,
     "metadata": {},
     "output_type": "execute_result"
    }
   ],
   "source": [
    "nc = 0.90\n",
    "t = stats.t.ppf((nc+1)/2,len(X))\n",
    "interval_b0 = [(b0 - t * Sb0),(b0 + t * Sb0)]\n",
    "interval_b0"
   ]
  },
  {
   "cell_type": "markdown",
   "metadata": {},
   "source": [
    "Como o intervalo de confiança inclui zero, a hipótese de que esses parâmetros são zero não pode ser rejeitada no nível de significância 0.1. Portanto, b0 é essencialmente zero."
   ]
  },
  {
   "cell_type": "code",
   "execution_count": 15,
   "metadata": {},
   "outputs": [
    {
     "data": {
      "text/plain": [
       "[0.13978743846871472, 0.22025390645741166]"
      ]
     },
     "execution_count": 15,
     "metadata": {},
     "output_type": "execute_result"
    }
   ],
   "source": [
    "interval_b1 = [(b1 - t * Sb1),(b1 + t * Sb1)]\n",
    "interval_b1"
   ]
  },
  {
   "cell_type": "markdown",
   "metadata": {},
   "source": [
    "Como o intervalo de confiança não inclui zero, a inclinação b1 é significativamente diferente de zero neste nível de confiança."
   ]
  },
  {
   "cell_type": "markdown",
   "metadata": {},
   "source": [
    "## 95\\%"
   ]
  },
  {
   "cell_type": "code",
   "execution_count": 16,
   "metadata": {},
   "outputs": [
    {
     "data": {
      "text/plain": [
       "[-26.989591862530418, 181.65974447394905]"
      ]
     },
     "execution_count": 16,
     "metadata": {},
     "output_type": "execute_result"
    }
   ],
   "source": [
    "nc = 0.95\n",
    "t = stats.t.ppf((nc+1)/2,len(X))\n",
    "interval_b0 = [(b0 - t * Sb0),(b0 + t * Sb0)]\n",
    "interval_b0"
   ]
  },
  {
   "cell_type": "markdown",
   "metadata": {},
   "source": [
    "Como o intervalo de confiança inclui zero, a hipótese de que esses parâmetros sejam zero não pode ser rejeitada no nível de significância 0,1. Portanto, b0 é essencialmente zero., a hipótese de que esses parâmetros são zero não pode ser rejeitada no nível de significância 0.05. Portanto, b0 é essencialmente zero."
   ]
  },
  {
   "cell_type": "code",
   "execution_count": 17,
   "metadata": {},
   "outputs": [
    {
     "data": {
      "text/plain": [
       "[0.130127901701236, 0.22991344322489038]"
      ]
     },
     "execution_count": 17,
     "metadata": {},
     "output_type": "execute_result"
    }
   ],
   "source": [
    "interval_b1 = [(b1 - t * Sb1),(b1 + t * Sb1)]\n",
    "interval_b1"
   ]
  },
  {
   "cell_type": "markdown",
   "metadata": {},
   "source": [
    "Como o intervalo de confiança não inclui zero, a inclinação b1 é significativamente diferente de zero neste nível de confiança."
   ]
  },
  {
   "cell_type": "markdown",
   "metadata": {},
   "source": [
    "## 99\\%"
   ]
  },
  {
   "cell_type": "code",
   "execution_count": 18,
   "metadata": {},
   "outputs": [
    {
     "data": {
      "text/plain": [
       "[-74.46416143165337, 229.134314043072]"
      ]
     },
     "execution_count": 18,
     "metadata": {},
     "output_type": "execute_result"
    }
   ],
   "source": [
    "nc = 0.99\n",
    "t = stats.t.ppf((nc+1)/2,len(X))\n",
    "interval_b0 = [(b0 - t * Sb0),(b0 + t * Sb0)]\n",
    "interval_b0"
   ]
  },
  {
   "cell_type": "markdown",
   "metadata": {},
   "source": [
    "Como o intervalo de confiança inclui zero, a hipótese de que esses parâmetros são zero não pode ser rejeitada no nível de significância 0.01. Portanto, b0 é essencialmente zero."
   ]
  },
  {
   "cell_type": "code",
   "execution_count": 19,
   "metadata": {},
   "outputs": [
    {
     "data": {
      "text/plain": [
       "[0.10742341715201252, 0.25261792777411385]"
      ]
     },
     "execution_count": 19,
     "metadata": {},
     "output_type": "execute_result"
    }
   ],
   "source": [
    "interval_b1 = [(b1 - t * Sb1),(b1 + t * Sb1)]\n",
    "interval_b1"
   ]
  },
  {
   "cell_type": "markdown",
   "metadata": {},
   "source": [
    "Como o intervalo de confiança não inclui zero, a inclinação b1 é significativamente diferente de zero neste nível de confiança."
   ]
  },
  {
   "cell_type": "markdown",
   "metadata": {},
   "source": [
    "# Testes Visuais de Pressupostos"
   ]
  },
  {
   "cell_type": "markdown",
   "metadata": {},
   "source": [
    "## Linearidade:"
   ]
  },
  {
   "cell_type": "code",
   "execution_count": 20,
   "metadata": {},
   "outputs": [
    {
     "data": {
      "text/plain": [
       "[<matplotlib.lines.Line2D at 0x7fa77918bf90>]"
      ]
     },
     "execution_count": 20,
     "metadata": {},
     "output_type": "execute_result"
    },
    {
     "data": {
      "image/png": "[encoded data removed]",
      "text/plain": [
       "<Figure size 648x432 with 1 Axes>"
      ]
     },
     "metadata": {
      "needs_background": "light"
     },
     "output_type": "display_data"
    }
   ],
   "source": [
    "figure = plt.figure(figsize=(9,6))\n",
    "plt.scatter(data['Rendimento/BRL(x)'], data['Despesas/BRL(y)'])\n",
    "plt.xlabel('Rendimento/BRL(x)')\n",
    "plt.ylabel('Despesas/BRL(y)')\n",
    "plt.grid(b=None)\n",
    "m, b = np.polyfit(data['Rendimento/BRL(x)'], data['Despesas/BRL(y)'], 1)\n",
    "plt.plot(data['Rendimento/BRL(x)'], m*data['Rendimento/BRL(x)'] + b)"
   ]
  },
  {
   "cell_type": "markdown",
   "metadata": {},
   "source": [
    "Os dados plotados se aproximam da reta linear, portanto podem ser representados por uma equação linear que represente o comportamento da amostra."
   ]
  },
  {
   "cell_type": "markdown",
   "metadata": {},
   "source": [
    "## Independência dos erros:"
   ]
  },
  {
   "cell_type": "code",
   "execution_count": 21,
   "metadata": {},
   "outputs": [
    {
     "data": {
      "text/plain": [
       "Text(0, 0.5, 'ε$_i$')"
      ]
     },
     "execution_count": 21,
     "metadata": {},
     "output_type": "execute_result"
    },
    {
     "data": {
      "image/png": "[encoded data removed]",
      "text/plain": [
       "<Figure size 432x288 with 1 Axes>"
      ]
     },
     "metadata": {
      "needs_background": "light"
     },
     "output_type": "display_data"
    }
   ],
   "source": [
    "plt.grid(b=None)\n",
    "sns.residplot(data['Rendimento/BRL(x)'], data['Despesas/BRL(y)'])\n",
    "plt.xlabel('ŷ')\n",
    "plt.ylabel('ε$_i$')"
   ]
  },
  {
   "cell_type": "markdown",
   "metadata": {},
   "source": [
    "Não existe tendencia ao espalamento, portanto é vericifada a homocedasticidade dos dados."
   ]
  },
  {
   "cell_type": "markdown",
   "metadata": {},
   "source": [
    "## Erros normais"
   ]
  },
  {
   "cell_type": "code",
   "execution_count": 22,
   "metadata": {},
   "outputs": [
    {
     "data": {
      "text/plain": [
       "((array([-1.38519806, -0.83757156, -0.46579419, -0.15039337,  0.15039337,\n",
       "          0.46579419,  0.83757156,  1.38519806]),\n",
       "  array([ 750,  950, 1400, 1700, 2250, 2600, 2800, 3000])),\n",
       " (927.9879494197563, 1931.25, 0.9789557212926476))"
      ]
     },
     "execution_count": 22,
     "metadata": {},
     "output_type": "execute_result"
    },
    {
     "data": {
      "image/png": "[encoded data removed]",
      "text/plain": [
       "<Figure size 432x288 with 1 Axes>"
      ]
     },
     "metadata": {
      "needs_background": "light"
     },
     "output_type": "display_data"
    }
   ],
   "source": [
    "plt.grid(b=None)\n",
    "stats.probplot(xy, dist=\"norm\", plot=pylab)"
   ]
  },
  {
   "cell_type": "markdown",
   "metadata": {},
   "source": [
    "Os pontos plotados se aproximam da reta da normal, portanto os erros são normais"
   ]
  }
 ],
 "metadata": {
  "kernelspec": {
   "display_name": "Python 3",
   "language": "python",
   "name": "python3"
  },
  "language_info": {
   "codemirror_mode": {
    "name": "ipython",
    "version": 3
   },
   "file_extension": ".py",
   "mimetype": "text/x-python",
   "name": "python",
   "nbconvert_exporter": "python",
   "pygments_lexer": "ipython3",
   "version": "3.7.6"
  }
 },
 "nbformat": 4,
 "nbformat_minor": 2
}
